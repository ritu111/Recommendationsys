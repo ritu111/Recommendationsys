{
 "cells": [
  {
   "cell_type": "code",
   "execution_count": 675,
   "metadata": {},
   "outputs": [],
   "source": [
    "# pip instal sentencepiece\n",
    "import pandas as pd\n",
    "import numpy as np\n",
    "import torch\n",
    "import torch.nn as nn\n",
    "import pickle\n",
    "import torch.nn.functional as F\n",
    "from collections import Counter\n",
    "from torch.utils.data import TensorDataset, DataLoader\n",
    "from sklearn.model_selection import train_test_split\n",
    "from sklearn.metrics import accuracy_score\n",
    "from pytorch_pretrained_bert import BertTokenizer, BertModel, BertForMaskedLM\n",
    "from pytorch_pretrained_bert import BertForSequenceClassification,BertConfig\n",
    "device = torch.device(\"cuda\" if torch.cuda.is_available() else \"cpu\")\n",
    "import fastai\n",
    "from fastai import *\n",
    "from fastai.text import * \n",
    "import sentencepiece as spm\n"
   ]
  },
  {
   "cell_type": "code",
   "execution_count": 1357,
   "metadata": {},
   "outputs": [
    {
     "name": "stdout",
     "output_type": "stream",
     "text": [
      "       label                                               text  userid  \\\n",
      "0        3.0  वुडी के नेतृत्व में एंडी के खिलौने उनके कमरे म...     862   \n",
      "1        5.0  वुडी के नेतृत्व में एंडी के खिलौने उनके कमरे म...     862   \n",
      "2        1.0  वुडी के नेतृत्व में एंडी के खिलौने उनके कमरे म...     862   \n",
      "3        4.0  वुडी के नेतृत्व में एंडी के खिलौने उनके कमरे म...     862   \n",
      "4        4.0  वुडी के नेतृत्व में एंडी के खिलौने उनके कमरे म...     862   \n",
      "5        3.0  वुडी के नेतृत्व में एंडी के खिलौने उनके कमरे म...     862   \n",
      "6        3.0  वुडी के नेतृत्व में एंडी के खिलौने उनके कमरे म...     862   \n",
      "7        4.0  वुडी के नेतृत्व में एंडी के खिलौने उनके कमरे म...     862   \n",
      "8        4.0  वुडी के नेतृत्व में एंडी के खिलौने उनके कमरे म...     862   \n",
      "9        4.0  वुडी के नेतृत्व में एंडी के खिलौने उनके कमरे म...     862   \n",
      "10       3.0  वुडी के नेतृत्व में एंडी के खिलौने उनके कमरे म...     862   \n",
      "11       4.0  एक वयस्क जो खेल के अंदर 26 साल के लिए फंस गया ...    8844   \n",
      "12       4.5  एक वयस्क जो खेल के अंदर 26 साल के लिए फंस गया ...    8844   \n",
      "13       4.0  एक वयस्क जो खेल के अंदर 26 साल के लिए फंस गया ...    8844   \n",
      "14       4.0  एक वयस्क जो खेल के अंदर 26 साल के लिए फंस गया ...    8844   \n",
      "15       4.0  जुनूनी मास्टर चोर नील मक्सौली लॉस एंजिल्स भर म...     949   \n",
      "16       4.0  जुनूनी मास्टर चोर नील मक्सौली लॉस एंजिल्स भर म...     949   \n",
      "17       4.0  जुनूनी मास्टर चोर नील मक्सौली लॉस एंजिल्स भर म...     949   \n",
      "18       4.0  जुनूनी मास्टर चोर नील मक्सौली लॉस एंजिल्स भर म...     949   \n",
      "19       2.0  जुनूनी मास्टर चोर नील मक्सौली लॉस एंजिल्स भर म...     949   \n",
      "20       4.0  जुनूनी मास्टर चोर नील मक्सौली लॉस एंजिल्स भर म...     949   \n",
      "21       4.0  जुनूनी मास्टर चोर नील मक्सौली लॉस एंजिल्स भर म...     949   \n",
      "22       5.0  जुनूनी मास्टर चोर नील मक्सौली लॉस एंजिल्स भर म...     949   \n",
      "23       4.0  जुनूनी मास्टर चोर नील मक्सौली लॉस एंजिल्स भर म...     949   \n",
      "24       4.0  जुनूनी मास्टर चोर नील मक्सौली लॉस एंजिल्स भर म...     949   \n",
      "25       4.0  जुनूनी मास्टर चोर नील मक्सौली लॉस एंजिल्स भर म...     949   \n",
      "26       4.0  जुनूनी मास्टर चोर नील मक्सौली लॉस एंजिल्स भर म...     949   \n",
      "27       5.0  जुनूनी मास्टर चोर नील मक्सौली लॉस एंजिल्स भर म...     949   \n",
      "28       3.0  जुनूनी मास्टर चोर नील मक्सौली लॉस एंजिल्स भर म...     949   \n",
      "29       2.0  जुनूनी मास्टर चोर नील मक्सौली लॉस एंजिल्स भर म...     949   \n",
      "...      ...                                                ...     ...   \n",
      "19970    1.5  1960 के दशक में चीन में फ्रांसीसी राजनयिक रेने...    1413   \n",
      "19971    2.0  1960 के दशक में चीन में फ्रांसीसी राजनयिक रेने...    1413   \n",
      "19972    3.0  1960 के दशक में चीन में फ्रांसीसी राजनयिक रेने...    1413   \n",
      "19973    3.5  1960 के दशक में चीन में फ्रांसीसी राजनयिक रेने...    1413   \n",
      "19974    4.0  1960 के दशक में चीन में फ्रांसीसी राजनयिक रेने...    1413   \n",
      "19975    5.0  1960 के दशक में चीन में फ्रांसीसी राजनयिक रेने...    1413   \n",
      "19976    4.5  1960 के दशक में चीन में फ्रांसीसी राजनयिक रेने...    1413   \n",
      "19977    4.0  1960 के दशक में चीन में फ्रांसीसी राजनयिक रेने...    1413   \n",
      "19978    5.0  1960 के दशक में चीन में फ्रांसीसी राजनयिक रेने...    1413   \n",
      "19979    4.0  1960 के दशक में चीन में फ्रांसीसी राजनयिक रेने...    1413   \n",
      "19980    4.0  1960 के दशक में चीन में फ्रांसीसी राजनयिक रेने...    1413   \n",
      "19981    5.0  1960 के दशक में चीन में फ्रांसीसी राजनयिक रेने...    1413   \n",
      "19982    3.0  1960 के दशक में चीन में फ्रांसीसी राजनयिक रेने...    1413   \n",
      "19983    3.5  1960 के दशक में चीन में फ्रांसीसी राजनयिक रेने...    1413   \n",
      "19984    4.0  1960 के दशक में चीन में फ्रांसीसी राजनयिक रेने...    1413   \n",
      "19985    2.0  1960 के दशक में चीन में फ्रांसीसी राजनयिक रेने...    1413   \n",
      "19986    4.0  1960 के दशक में चीन में फ्रांसीसी राजनयिक रेने...    1413   \n",
      "19987    4.0  1960 के दशक में चीन में फ्रांसीसी राजनयिक रेने...    1413   \n",
      "19988    4.0  1960 के दशक में चीन में फ्रांसीसी राजनयिक रेने...    1413   \n",
      "19989    1.0  1960 के दशक में चीन में फ्रांसीसी राजनयिक रेने...    1413   \n",
      "19990    4.0  1960 के दशक में चीन में फ्रांसीसी राजनयिक रेने...    1413   \n",
      "19991    4.5  1960 के दशक में चीन में फ्रांसीसी राजनयिक रेने...    1413   \n",
      "19992    1.0  1960 के दशक में चीन में फ्रांसीसी राजनयिक रेने...    1413   \n",
      "19993    3.0  बच्चे हैं चाहते हैं जो एक खुशी से शादीशुदा जोड...    2246   \n",
      "19994    1.0  बच्चे हैं चाहते हैं जो एक खुशी से शादीशुदा जोड...    2246   \n",
      "19995    3.0  आतंकवादियों वॉशिंगटन डीसी को एक 747 भीतर का अप...    2320   \n",
      "19996    4.0  आतंकवादियों वॉशिंगटन डीसी को एक 747 भीतर का अप...    2320   \n",
      "19997    4.0  आतंकवादियों वॉशिंगटन डीसी को एक 747 भीतर का अप...    2320   \n",
      "19998    3.0  आतंकवादियों वॉशिंगटन डीसी को एक 747 भीतर का अप...    2320   \n",
      "19999    3.0  आतंकवादियों वॉशिंगटन डीसी को एक 747 भीतर का अप...    2320   \n",
      "\n",
      "                                                   genre  \n",
      "0      [{'आ ी डी': 16, 'नाम': 'एनीमेशन'}, {'आ ी डी': ...  \n",
      "1      [{'आ ी डी': 16, 'नाम': 'एनीमेशन'}, {'आ ी डी': ...  \n",
      "2      [{'आ ी डी': 16, 'नाम': 'एनीमेशन'}, {'आ ी डी': ...  \n",
      "3      [{'आ ी डी': 16, 'नाम': 'एनीमेशन'}, {'आ ी डी': ...  \n",
      "4      [{'आ ी डी': 16, 'नाम': 'एनीमेशन'}, {'आ ी डी': ...  \n",
      "5      [{'आ ी डी': 16, 'नाम': 'एनीमेशन'}, {'आ ी डी': ...  \n",
      "6      [{'आ ी डी': 16, 'नाम': 'एनीमेशन'}, {'आ ी डी': ...  \n",
      "7      [{'आ ी डी': 16, 'नाम': 'एनीमेशन'}, {'आ ी डी': ...  \n",
      "8      [{'आ ी डी': 16, 'नाम': 'एनीमेशन'}, {'आ ी डी': ...  \n",
      "9      [{'आ ी डी': 16, 'नाम': 'एनीमेशन'}, {'आ ी डी': ...  \n",
      "10     [{'आ ी डी': 16, 'नाम': 'एनीमेशन'}, {'आ ी डी': ...  \n",
      "11     [{'आ ी डी': 12, 'नाम': 'एडवेंचर'}, {'आ ी डी': ...  \n",
      "12     [{'आ ी डी': 12, 'नाम': 'एडवेंचर'}, {'आ ी डी': ...  \n",
      "13     [{'आ ी डी': 12, 'नाम': 'एडवेंचर'}, {'आ ी डी': ...  \n",
      "14     [{'आ ी डी': 12, 'नाम': 'एडवेंचर'}, {'आ ी डी': ...  \n",
      "15     [{'आ ी डी': 28, 'नाम': 'एक्शन'}, {'आ ी डी': 80...  \n",
      "16     [{'आ ी डी': 28, 'नाम': 'एक्शन'}, {'आ ी डी': 80...  \n",
      "17     [{'आ ी डी': 28, 'नाम': 'एक्शन'}, {'आ ी डी': 80...  \n",
      "18     [{'आ ी डी': 28, 'नाम': 'एक्शन'}, {'आ ी डी': 80...  \n",
      "19     [{'आ ी डी': 28, 'नाम': 'एक्शन'}, {'आ ी डी': 80...  \n",
      "20     [{'आ ी डी': 28, 'नाम': 'एक्शन'}, {'आ ी डी': 80...  \n",
      "21     [{'आ ी डी': 28, 'नाम': 'एक्शन'}, {'आ ी डी': 80...  \n",
      "22     [{'आ ी डी': 28, 'नाम': 'एक्शन'}, {'आ ी डी': 80...  \n",
      "23     [{'आ ी डी': 28, 'नाम': 'एक्शन'}, {'आ ी डी': 80...  \n",
      "24     [{'आ ी डी': 28, 'नाम': 'एक्शन'}, {'आ ी डी': 80...  \n",
      "25     [{'आ ी डी': 28, 'नाम': 'एक्शन'}, {'आ ी डी': 80...  \n",
      "26     [{'आ ी डी': 28, 'नाम': 'एक्शन'}, {'आ ी डी': 80...  \n",
      "27     [{'आ ी डी': 28, 'नाम': 'एक्शन'}, {'आ ी डी': 80...  \n",
      "28     [{'आ ी डी': 28, 'नाम': 'एक्शन'}, {'आ ी डी': 80...  \n",
      "29     [{'आ ी डी': 28, 'नाम': 'एक्शन'}, {'आ ी डी': 80...  \n",
      "...                                                  ...  \n",
      "19970  [{'आ ी डी': 18, 'नाम': 'ड्रामा'}, {'आ ी डी': 1...  \n",
      "19971  [{'आ ी डी': 18, 'नाम': 'ड्रामा'}, {'आ ी डी': 1...  \n",
      "19972  [{'आ ी डी': 18, 'नाम': 'ड्रामा'}, {'आ ी डी': 1...  \n",
      "19973  [{'आ ी डी': 18, 'नाम': 'ड्रामा'}, {'आ ी डी': 1...  \n",
      "19974  [{'आ ी डी': 18, 'नाम': 'ड्रामा'}, {'आ ी डी': 1...  \n",
      "19975  [{'आ ी डी': 18, 'नाम': 'ड्रामा'}, {'आ ी डी': 1...  \n",
      "19976  [{'आ ी डी': 18, 'नाम': 'ड्रामा'}, {'आ ी डी': 1...  \n",
      "19977  [{'आ ी डी': 18, 'नाम': 'ड्रामा'}, {'आ ी डी': 1...  \n",
      "19978  [{'आ ी डी': 18, 'नाम': 'ड्रामा'}, {'आ ी डी': 1...  \n",
      "19979  [{'आ ी डी': 18, 'नाम': 'ड्रामा'}, {'आ ी डी': 1...  \n",
      "19980  [{'आ ी डी': 18, 'नाम': 'ड्रामा'}, {'आ ी डी': 1...  \n",
      "19981  [{'आ ी डी': 18, 'नाम': 'ड्रामा'}, {'आ ी डी': 1...  \n",
      "19982  [{'आ ी डी': 18, 'नाम': 'ड्रामा'}, {'आ ी डी': 1...  \n",
      "19983  [{'आ ी डी': 18, 'नाम': 'ड्रामा'}, {'आ ी डी': 1...  \n",
      "19984  [{'आ ी डी': 18, 'नाम': 'ड्रामा'}, {'आ ी डी': 1...  \n",
      "19985  [{'आ ी डी': 18, 'नाम': 'ड्रामा'}, {'आ ी डी': 1...  \n",
      "19986  [{'आ ी डी': 18, 'नाम': 'ड्रामा'}, {'आ ी डी': 1...  \n",
      "19987  [{'आ ी डी': 18, 'नाम': 'ड्रामा'}, {'आ ी डी': 1...  \n",
      "19988  [{'आ ी डी': 18, 'नाम': 'ड्रामा'}, {'आ ी डी': 1...  \n",
      "19989  [{'आ ी डी': 18, 'नाम': 'ड्रामा'}, {'आ ी डी': 1...  \n",
      "19990  [{'आ ी डी': 18, 'नाम': 'ड्रामा'}, {'आ ी डी': 1...  \n",
      "19991  [{'आ ी डी': 18, 'नाम': 'ड्रामा'}, {'आ ी डी': 1...  \n",
      "19992  [{'आ ी डी': 18, 'नाम': 'ड्रामा'}, {'आ ी डी': 1...  \n",
      "19993  [{'आ ी डी': 18, 'नाम': 'ड्रामा'}, {'आ ी डी': 8...  \n",
      "19994  [{'आ ी डी': 18, 'नाम': 'ड्रामा'}, {'आ ी डी': 8...  \n",
      "19995  [{'आ ी डी': 28, 'नाम': 'एक्शन'}, {'आ ी डी': 12...  \n",
      "19996  [{'आ ी डी': 28, 'नाम': 'एक्शन'}, {'आ ी डी': 12...  \n",
      "19997  [{'आ ी डी': 28, 'नाम': 'एक्शन'}, {'आ ी डी': 12...  \n",
      "19998  [{'आ ी डी': 28, 'नाम': 'एक्शन'}, {'आ ी डी': 12...  \n",
      "19999  [{'आ ी डी': 28, 'नाम': 'एक्शन'}, {'आ ी डी': 12...  \n",
      "\n",
      "[20000 rows x 4 columns]\n"
     ]
    },
    {
     "name": "stdout",
     "output_type": "stream",
     "text": [
      "0        [वुडी, के, नेतृत्व, में, एंडी, के, खिलौने, उनक...\n",
      "1        [वुडी, के, नेतृत्व, में, एंडी, के, खिलौने, उनक...\n",
      "2        [वुडी, के, नेतृत्व, में, एंडी, के, खिलौने, उनक...\n",
      "3        [वुडी, के, नेतृत्व, में, एंडी, के, खिलौने, उनक...\n",
      "4        [वुडी, के, नेतृत्व, में, एंडी, के, खिलौने, उनक...\n",
      "5        [वुडी, के, नेतृत्व, में, एंडी, के, खिलौने, उनक...\n",
      "6        [वुडी, के, नेतृत्व, में, एंडी, के, खिलौने, उनक...\n",
      "7        [वुडी, के, नेतृत्व, में, एंडी, के, खिलौने, उनक...\n",
      "8        [वुडी, के, नेतृत्व, में, एंडी, के, खिलौने, उनक...\n",
      "9        [वुडी, के, नेतृत्व, में, एंडी, के, खिलौने, उनक...\n",
      "10       [वुडी, के, नेतृत्व, में, एंडी, के, खिलौने, उनक...\n",
      "11       [एक, वयस्क, जो, खेल, के, अंदर, 26, साल, के, लि...\n",
      "12       [एक, वयस्क, जो, खेल, के, अंदर, 26, साल, के, लि...\n",
      "13       [एक, वयस्क, जो, खेल, के, अंदर, 26, साल, के, लि...\n",
      "14       [एक, वयस्क, जो, खेल, के, अंदर, 26, साल, के, लि...\n",
      "15       [जुनूनी, मास्टर, चोर, नील, मक्सौली, लॉस, एंजिल...\n",
      "16       [जुनूनी, मास्टर, चोर, नील, मक्सौली, लॉस, एंजिल...\n",
      "17       [जुनूनी, मास्टर, चोर, नील, मक्सौली, लॉस, एंजिल...\n",
      "18       [जुनूनी, मास्टर, चोर, नील, मक्सौली, लॉस, एंजिल...\n",
      "19       [जुनूनी, मास्टर, चोर, नील, मक्सौली, लॉस, एंजिल...\n",
      "20       [जुनूनी, मास्टर, चोर, नील, मक्सौली, लॉस, एंजिल...\n",
      "21       [जुनूनी, मास्टर, चोर, नील, मक्सौली, लॉस, एंजिल...\n",
      "22       [जुनूनी, मास्टर, चोर, नील, मक्सौली, लॉस, एंजिल...\n",
      "23       [जुनूनी, मास्टर, चोर, नील, मक्सौली, लॉस, एंजिल...\n",
      "24       [जुनूनी, मास्टर, चोर, नील, मक्सौली, लॉस, एंजिल...\n",
      "25       [जुनूनी, मास्टर, चोर, नील, मक्सौली, लॉस, एंजिल...\n",
      "26       [जुनूनी, मास्टर, चोर, नील, मक्सौली, लॉस, एंजिल...\n",
      "27       [जुनूनी, मास्टर, चोर, नील, मक्सौली, लॉस, एंजिल...\n",
      "28       [जुनूनी, मास्टर, चोर, नील, मक्सौली, लॉस, एंजिल...\n",
      "29       [जुनूनी, मास्टर, चोर, नील, मक्सौली, लॉस, एंजिल...\n",
      "                               ...                        \n",
      "19970    [1960, के, दशक, में, चीन, में, फ्रांसीसी, राजन...\n",
      "19971    [1960, के, दशक, में, चीन, में, फ्रांसीसी, राजन...\n",
      "19972    [1960, के, दशक, में, चीन, में, फ्रांसीसी, राजन...\n",
      "19973    [1960, के, दशक, में, चीन, में, फ्रांसीसी, राजन...\n",
      "19974    [1960, के, दशक, में, चीन, में, फ्रांसीसी, राजन...\n",
      "19975    [1960, के, दशक, में, चीन, में, फ्रांसीसी, राजन...\n",
      "19976    [1960, के, दशक, में, चीन, में, फ्रांसीसी, राजन...\n",
      "19977    [1960, के, दशक, में, चीन, में, फ्रांसीसी, राजन...\n",
      "19978    [1960, के, दशक, में, चीन, में, फ्रांसीसी, राजन...\n",
      "19979    [1960, के, दशक, में, चीन, में, फ्रांसीसी, राजन...\n",
      "19980    [1960, के, दशक, में, चीन, में, फ्रांसीसी, राजन...\n",
      "19981    [1960, के, दशक, में, चीन, में, फ्रांसीसी, राजन...\n",
      "19982    [1960, के, दशक, में, चीन, में, फ्रांसीसी, राजन...\n",
      "19983    [1960, के, दशक, में, चीन, में, फ्रांसीसी, राजन...\n",
      "19984    [1960, के, दशक, में, चीन, में, फ्रांसीसी, राजन...\n",
      "19985    [1960, के, दशक, में, चीन, में, फ्रांसीसी, राजन...\n",
      "19986    [1960, के, दशक, में, चीन, में, फ्रांसीसी, राजन...\n",
      "19987    [1960, के, दशक, में, चीन, में, फ्रांसीसी, राजन...\n",
      "19988    [1960, के, दशक, में, चीन, में, फ्रांसीसी, राजन...\n",
      "19989    [1960, के, दशक, में, चीन, में, फ्रांसीसी, राजन...\n",
      "19990    [1960, के, दशक, में, चीन, में, फ्रांसीसी, राजन...\n",
      "19991    [1960, के, दशक, में, चीन, में, फ्रांसीसी, राजन...\n",
      "19992    [1960, के, दशक, में, चीन, में, फ्रांसीसी, राजन...\n",
      "19993    [बच्चे, हैं, चाहते, हैं, जो, एक, खुशी, से, शाद...\n",
      "19994    [बच्चे, हैं, चाहते, हैं, जो, एक, खुशी, से, शाद...\n",
      "19995    [आतंकवादियों, वॉशिंगटन, डीसी, को, एक, 747, भीत...\n",
      "19996    [आतंकवादियों, वॉशिंगटन, डीसी, को, एक, 747, भीत...\n",
      "19997    [आतंकवादियों, वॉशिंगटन, डीसी, को, एक, 747, भीत...\n",
      "19998    [आतंकवादियों, वॉशिंगटन, डीसी, को, एक, 747, भीत...\n",
      "19999    [आतंकवादियों, वॉशिंगटन, डीसी, को, एक, 747, भीत...\n",
      "Name: text, Length: 20000, dtype: object\n"
     ]
    }
   ],
   "source": [
    "##Fine tuning LM on movies dataset\n",
    "\n",
    "ratings = pd.read_excel(\"ratings.xlsx\", encoding='utf-8', sep='\\t', header=[0])\n",
    "data = pd.read_excel(\"10k moviemetadatahindi.xlsx\", encoding='utf-8', sep='\\t', header=[0],sheet_name='Sheet2')\n",
    "\n",
    "dataset =  pd.merge(data[['id','imdb_id','overview','genres']].copy(),ratings, how = 'inner', left_on ='id', right_on = 'movieId')\n",
    "dataset = dataset[:20000].copy()\n",
    "\n",
    "df = pd.DataFrame({'label':dataset.rating, 'text':dataset.overview,'userid':dataset.id,'genre':dataset.genres})\n",
    "df = df.reset_index(drop = True)\n",
    "# print(df)\n",
    "\n",
    "for i in range(0, 1):                                                     \n",
    "    df['text'] = df['text'].str.replace('।', '') \n",
    "    df['text'] = df['text'].str.replace(',', '') \n",
    "    df['text'] = df['text'].str.replace(\"'\", '') \n",
    "    df['text'] = df['text'].str.replace(\":\", '') \n",
    "    df['text'] = df['text'].str.replace(\"{\", '')\n",
    "    df['text'] = df['text'].str.replace(\"}\", '') \n",
    "\n",
    "    print(df)\n",
    "\n",
    "tokenized_doc = df['text'].apply(lambda k: list(k.split(\" \")))\n",
    "print(tokenized_doc)\n",
    "\n",
    "\n",
    "detokenized_doc = [] \n",
    "for i in range(len(df)): \n",
    "    t = ' '.join(tokenized_doc[i]) \n",
    "    detokenized_doc.append(t) \n",
    "\n",
    "df['text'] = detokenized_doc\n",
    "\n",
    "from sklearn.model_selection import train_test_split\n",
    "df_trn, df_val = train_test_split(df, stratify = df['label'], test_size = 0.2, random_state = 12)\n"
   ]
  },
  {
   "cell_type": "code",
   "execution_count": 1343,
   "metadata": {},
   "outputs": [],
   "source": [
    "class HindiTokenizer(BaseTokenizer):\n",
    "    def __init__(self, lang:str):\n",
    "        self.lang = lang\n",
    "        self.sp = spm.SentencePieceProcessor()\n",
    "        self.sp.Load(str(\"hindi_lm_large.model\"))\n",
    "        \n",
    "    def tokenizer(self, t:str) -> List[str]:\n",
    "        return self.sp.EncodeAsPieces(t)\n",
    "    "
   ]
  },
  {
   "cell_type": "code",
   "execution_count": 1344,
   "metadata": {},
   "outputs": [],
   "source": [
    "sp = spm.SentencePieceProcessor()\n",
    "sp.Load(str(\"hindi_lm_large.model\"))\n",
    "itos = [sp.IdToPiece(int(i)) for i in range(30000)]  \n",
    "    \n",
    "hindi_vocab = Vocab(itos)\n",
    "tokenizer = Tokenizer(tok_func=HindiTokenizer, lang='hi')\n",
    "\n",
    "data_lm = TextLMDataBunch.from_df(train_df = df_trn, valid_df = df_val, path = \"\",tokenizer=tokenizer,vocab=hindi_vocab)\n",
    "learn = language_model_learner(data_lm, drop_mult=0.7, arch=AWD_LSTM, pretrained=False) \n",
    "##we have to make pretrained as false so that it doesn't load weights from pre-trained model"
   ]
  },
  {
   "cell_type": "code",
   "execution_count": 1345,
   "metadata": {},
   "outputs": [
    {
     "data": {
      "text/html": [
       "<table border=\"1\" class=\"dataframe\">\n",
       "  <thead>\n",
       "    <tr style=\"text-align: left;\">\n",
       "      <th>epoch</th>\n",
       "      <th>train_loss</th>\n",
       "      <th>valid_loss</th>\n",
       "      <th>accuracy</th>\n",
       "      <th>time</th>\n",
       "    </tr>\n",
       "  </thead>\n",
       "  <tbody>\n",
       "    <tr>\n",
       "      <td>0</td>\n",
       "      <td>0.254105</td>\n",
       "      <td>0.099766</td>\n",
       "      <td>0.980152</td>\n",
       "      <td>27:31</td>\n",
       "    </tr>\n",
       "  </tbody>\n",
       "</table>"
      ],
      "text/plain": [
       "<IPython.core.display.HTML object>"
      ]
     },
     "metadata": {},
     "output_type": "display_data"
    }
   ],
   "source": [
    "learn.load('model')\n",
    "learn.fit_one_cycle(1, 1e-2)"
   ]
  },
  {
   "cell_type": "code",
   "execution_count": 1346,
   "metadata": {},
   "outputs": [
    {
     "data": {
      "text/plain": [
       "AWD_LSTM(\n",
       "  (encoder): Embedding(30000, 400, padding_idx=1)\n",
       "  (encoder_dp): EmbeddingDropout(\n",
       "    (emb): Embedding(30000, 400, padding_idx=1)\n",
       "  )\n",
       "  (rnns): ModuleList(\n",
       "    (0): WeightDropout(\n",
       "      (module): LSTM(400, 1152, batch_first=True)\n",
       "    )\n",
       "    (1): WeightDropout(\n",
       "      (module): LSTM(1152, 1152, batch_first=True)\n",
       "    )\n",
       "    (2): WeightDropout(\n",
       "      (module): LSTM(1152, 400, batch_first=True)\n",
       "    )\n",
       "  )\n",
       "  (input_dp): RNNDropout()\n",
       "  (hidden_dps): ModuleList(\n",
       "    (0): RNNDropout()\n",
       "    (1): RNNDropout()\n",
       "    (2): RNNDropout()\n",
       "  )\n",
       ")"
      ]
     },
     "execution_count": 1346,
     "metadata": {},
     "output_type": "execute_result"
    }
   ],
   "source": [
    "learn.model[0]"
   ]
  },
  {
   "cell_type": "code",
   "execution_count": 722,
   "metadata": {},
   "outputs": [],
   "source": [
    "# print(len(df_trn['text'].values[1]))\n",
    "# print((df_trn['text'].values[1]))\n",
    "# print(tokenized_doc)\n",
    "# tokenized_doc.apply(lambda m : tokenized_word.append(m))\n",
    "# print(tokenized_word[0])\n",
    "# df_trn['text']= df['text'].apply(lambda k: list(k.split(\" \")))\n",
    "# df['text']=tokenized_doc"
   ]
  },
  {
   "cell_type": "code",
   "execution_count": 695,
   "metadata": {},
   "outputs": [],
   "source": [
    "# df_trn=df_trn.reset_index(drop =True)\n",
    "\n",
    "# a=df_trn['text']\n",
    "# print(a[5])\n",
    "# for i in range(0,len(df_trn['text'])):\n",
    "#     df_trn['text'].values[i]=learn.model[0](learn.data.one_item(a[i])[0])"
   ]
  },
  {
   "cell_type": "code",
   "execution_count": 1358,
   "metadata": {},
   "outputs": [],
   "source": [
    "from torch.utils.data import Dataset, DataLoader\n",
    "\n",
    "class HindiDataset(Dataset):\n",
    "    \n",
    "    def __init__(self, data):\n",
    "        \"\"\"\n",
    "        Characterizes a Dataset for PyTorch\n",
    "    \n",
    "        Parameters\n",
    "        ----------\n",
    "    \n",
    "        pass a dataframe with userid, label, text\n",
    "        \n",
    "        \"\"\"\n",
    "        self.n = data.shape[0]\n",
    "        self.userid =  data['userid'].tolist()\n",
    "        self.label = data['label'].tolist()\n",
    "        self.hindiSent =  data['text'].tolist()\n",
    "\n",
    "    def __len__(self):\n",
    "        \"\"\"\n",
    "        Denotes the total number of samples.\n",
    "        \"\"\"\n",
    "        return self.n\n",
    "\n",
    "    def __getitem__(self, idx):\n",
    "        \"\"\"\n",
    "        Generates one sample of data.\n",
    "        \"\"\"\n",
    "        return  self.label[idx], self.hindiSent[idx], self.userid[idx]\n",
    "    \n",
    "    \n",
    "# dataset = HindiDataset(data=df)\n",
    "# dataloader = DataLoader(dataset, 64, shuffle=True, num_workers=1)    "
   ]
  },
  {
   "cell_type": "code",
   "execution_count": 1359,
   "metadata": {},
   "outputs": [],
   "source": [
    "train_df=HindiDataset(data=df_trn)\n",
    "train_loader = DataLoader(train_df, 64, shuffle=True, num_workers=1)  \n",
    "val_df=HindiDataset(data=df_val)\n",
    "val_loader = DataLoader(val_df, 64, shuffle=True, num_workers=1)"
   ]
  },
  {
   "cell_type": "code",
   "execution_count": 1360,
   "metadata": {},
   "outputs": [
    {
     "name": "stdout",
     "output_type": "stream",
     "text": [
      "122\n"
     ]
    }
   ],
   "source": [
    "vocab_size=1200\n",
    "embed_size = 100\n",
    "n_hidden = 128\n",
    "n_layers = 3\n",
    "batchSize=64\n",
    "output_size=11\n",
    "n_user=len(df_trn['userid'].unique())\n",
    "print(n_user)\n",
    "max_user=max(df_trn['userid'].unique())+1\n",
    "\n",
    "seq_length=150 "
   ]
  },
  {
   "cell_type": "code",
   "execution_count": 1361,
   "metadata": {},
   "outputs": [],
   "source": [
    "class UserEmbedding(nn.Module):\n",
    "    def __init__(self,vocab_size, n_user,embed_size,n_hidden,n_layers,output_size, batchSize\n",
    "             , batch_first=True,):\n",
    "\n",
    "        super(UserEmbedding,self).__init__()\n",
    "        self.n_layers = n_layers\n",
    "        self.n_hidden = n_hidden\n",
    "        self.n_batch = batchSize\n",
    "\n",
    "        self.encoder_layer = learn.model[0]\n",
    "\n",
    "        #self.awd = AWD_LSTM(vocab_sz = 30000, emb_sz = 400, n_hid=1152, n_layers =3)\n",
    "        self.linear1 = nn.Linear(400,100)\n",
    "        #self.linear2 = nn.Sequential(self.awd, self.linear1)\n",
    "        self.linear3 = nn.Linear(400, 64)\n",
    "\n",
    "        self.embedding = nn.Embedding(max_user, embed_size)\n",
    "\n",
    "        self.linear7 = nn.Linear(200,32) \n",
    "        self.linear8 = nn.Linear(32,output_size)\n",
    "\n",
    "    def forward(self, sents, users, hidden):\n",
    "\n",
    "        b=(learn.data.one_item(sents[0]))\n",
    "        raw_outputs,outputs=self.encoder_layer(b[0])\n",
    "        lstm_out = raw_outputs[2]           \n",
    "        lstm_out_mean1 = lstm_out.mean(1)\n",
    "        \n",
    "        for i in range(1,len(sents)):\n",
    "            b=(learn.data.one_item(sents[i]))\n",
    "            raw_outputs,outputs = self.encoder_layer(b[0])\n",
    "            lstm_out = raw_outputs[2]  \n",
    "           \n",
    "            lstm_out_mean = lstm_out.mean(1)\n",
    "            lstm_out_mean1=torch.cat((lstm_out_mean1,lstm_out_mean),dim=0)\n",
    "        \n",
    "        out1 = F.relu(torch.FloatTensor(self.linear1(lstm_out_mean1)))\n",
    "\n",
    "        userEmbed = self.embedding(users)\n",
    "        out3 = torch.cat((out1, userEmbed), dim=1)\n",
    "\n",
    "        out3 = F.relu(self.linear7(out3))\n",
    "        out3 = self.linear8(out3)\n",
    "#         out3 = self.linear9(out3) \n",
    "#         print(out3,\"out3:\")\n",
    "        return out3,hidden\n",
    "\n",
    "    def init_hidden(self):\n",
    "\n",
    "        weight = next(self.parameters()).data            \n",
    "        hidden = (weight.new(self.n_layers,self.n_batch,self.n_hidden).zero_(),\n",
    "                  weight.new(self.n_layers,self.n_batch,self.n_hidden).zero_())\n",
    "\n",
    "        return hidden"
   ]
  },
  {
   "cell_type": "code",
   "execution_count": 1362,
   "metadata": {},
   "outputs": [],
   "source": [
    "learn.model.reset()\n",
    "model = UserEmbedding(vocab_size,n_user,embed_size,n_hidden,n_layers,output_size,batchSize,output_size)\n",
    "# print(model)"
   ]
  },
  {
   "cell_type": "code",
   "execution_count": 1363,
   "metadata": {},
   "outputs": [
    {
     "name": "stdout",
     "output_type": "stream",
     "text": [
      "16000\n"
     ]
    }
   ],
   "source": [
    "loss = nn.CrossEntropyLoss()\n",
    "optimizer = torch.optim.Adam(model.parameters(), lr = 0.01)\n",
    "print(len(df_trn))"
   ]
  },
  {
   "cell_type": "code",
   "execution_count": 1364,
   "metadata": {},
   "outputs": [
    {
     "name": "stdout",
     "output_type": "stream",
     "text": [
      "0.3200625 [32.00625]\n",
      "0.3309375 [32.00625, 33.09375]\n",
      "0.329875 [32.00625, 33.09375, 32.9875]\n",
      "0.3349375 [32.00625, 33.09375, 32.9875, 33.49375]\n",
      "0.3306875 [32.00625, 33.09375, 32.9875, 33.49375, 33.06875]\n"
     ]
    },
    {
     "name": "stderr",
     "output_type": "stream",
     "text": [
      "Process Process-561:\n",
      "Exception ignored in: <function _MultiProcessingDataLoaderIter.__del__ at 0x126cbf6a8>\n",
      "Traceback (most recent call last):\n",
      "  File \"/Library/Frameworks/Python.framework/Versions/3.7/lib/python3.7/site-packages/torch/utils/data/dataloader.py\", line 926, in __del__\n",
      "    self._shutdown_workers()\n",
      "  File \"/Library/Frameworks/Python.framework/Versions/3.7/lib/python3.7/site-packages/torch/utils/data/dataloader.py\", line 906, in _shutdown_workers\n",
      "    w.join()\n",
      "  File \"/Library/Frameworks/Python.framework/Versions/3.7/lib/python3.7/multiprocessing/process.py\", line 140, in join\n",
      "    res = self._popen.wait(timeout)\n",
      "  File \"/Library/Frameworks/Python.framework/Versions/3.7/lib/python3.7/multiprocessing/popen_fork.py\", line 48, in wait\n",
      "    return self.poll(os.WNOHANG if timeout == 0.0 else 0)\n",
      "  File \"/Library/Frameworks/Python.framework/Versions/3.7/lib/python3.7/multiprocessing/popen_fork.py\", line 28, in poll\n",
      "    pid, sts = os.waitpid(self.pid, flag)\n",
      "KeyboardInterrupt: \n",
      "Traceback (most recent call last):\n",
      "  File \"/Library/Frameworks/Python.framework/Versions/3.7/lib/python3.7/multiprocessing/process.py\", line 300, in _bootstrap\n",
      "    util._exit_function()\n",
      "  File \"/Library/Frameworks/Python.framework/Versions/3.7/lib/python3.7/multiprocessing/util.py\", line 325, in _exit_function\n",
      "    _run_finalizers()\n",
      "ERROR:root:Internal Python error in the inspect module.\n",
      "Below is the traceback from this internal error.\n",
      "\n"
     ]
    },
    {
     "name": "stdout",
     "output_type": "stream",
     "text": [
      "Traceback (most recent call last):\n",
      "  File \"/Library/Frameworks/Python.framework/Versions/3.7/lib/python3.7/site-packages/IPython/core/interactiveshell.py\", line 3326, in run_code\n",
      "    exec(code_obj, self.user_global_ns, self.user_ns)\n",
      "  File \"<ipython-input-1364-b2f9e129f7c9>\", line 22, in <module>\n",
      "    lloss1.backward()\n",
      "  File \"/Library/Frameworks/Python.framework/Versions/3.7/lib/python3.7/site-packages/torch/tensor.py\", line 118, in backward\n",
      "    torch.autograd.backward(self, gradient, retain_graph, create_graph)\n",
      "  File \"/Library/Frameworks/Python.framework/Versions/3.7/lib/python3.7/site-packages/torch/autograd/__init__.py\", line 93, in backward\n",
      "    allow_unreachable=True)  # allow_unreachable flag\n",
      "KeyboardInterrupt\n",
      "\n",
      "During handling of the above exception, another exception occurred:\n",
      "\n",
      "Traceback (most recent call last):\n",
      "  File \"/Library/Frameworks/Python.framework/Versions/3.7/lib/python3.7/site-packages/IPython/core/interactiveshell.py\", line 2040, in showtraceback\n",
      "    stb = value._render_traceback_()\n",
      "AttributeError: 'KeyboardInterrupt' object has no attribute '_render_traceback_'\n",
      "\n",
      "During handling of the above exception, another exception occurred:\n",
      "\n",
      "Traceback (most recent call last):\n",
      "  File \"/Library/Frameworks/Python.framework/Versions/3.7/lib/python3.7/site-packages/IPython/core/ultratb.py\", line 1101, in get_records\n",
      "    return _fixed_getinnerframes(etb, number_of_lines_of_context, tb_offset)\n",
      "  File \"/Library/Frameworks/Python.framework/Versions/3.7/lib/python3.7/site-packages/IPython/core/ultratb.py\", line 319, in wrapped\n",
      "    return f(*args, **kwargs)\n",
      "  File \"/Library/Frameworks/Python.framework/Versions/3.7/lib/python3.7/site-packages/IPython/core/ultratb.py\", line 353, in _fixed_getinnerframes\n",
      "    records = fix_frame_records_filenames(inspect.getinnerframes(etb, context))\n",
      "  File \"/Library/Frameworks/Python.framework/Versions/3.7/lib/python3.7/inspect.py\", line 1502, in getinnerframes\n",
      "    frameinfo = (tb.tb_frame,) + getframeinfo(tb, context)\n",
      "  File \"/Library/Frameworks/Python.framework/Versions/3.7/lib/python3.7/inspect.py\", line 1460, in getframeinfo\n",
      "    filename = getsourcefile(frame) or getfile(frame)\n",
      "  File \"/Library/Frameworks/Python.framework/Versions/3.7/lib/python3.7/inspect.py\", line 696, in getsourcefile\n",
      "    if getattr(getmodule(object, filename), '__loader__', None) is not None:\n",
      "  File \"/Library/Frameworks/Python.framework/Versions/3.7/lib/python3.7/inspect.py\", line 732, in getmodule\n",
      "    for modname, module in list(sys.modules.items()):\n",
      "KeyboardInterrupt\n"
     ]
    },
    {
     "ename": "KeyboardInterrupt",
     "evalue": "",
     "output_type": "error",
     "traceback": [
      "\u001b[0;31m---------------------------------------------------------------------------\u001b[0m"
     ]
    }
   ],
   "source": [
    "model.train()\n",
    "losses = []\n",
    "total_loss=[]\n",
    "predicted_rating=[]\n",
    "accuracy_list=[]\n",
    "for i in range(0,20):\n",
    "    correct1=0\n",
    "    \n",
    "    for label,text,userid in train_loader:\n",
    "        model.zero_grad()\n",
    "    \n",
    "        hidden =  model.init_hidden()\n",
    "        hidden = ([each.data for each in hidden])\n",
    "        output1,hidden  = model(text,userid,hidden)\n",
    "        _, predicted= torch.topk(output1,k=1)  \n",
    "        predicted=predicted.type(torch.DoubleTensor)\n",
    "        correct=predicted.data.eq(label.data.view_as(predicted.data)).sum()    ###taking sum of all corrected values for a batch\n",
    "#         print(correct)\n",
    "        correct1=correct1+correct.item()\n",
    "#         print(correct1)\n",
    "        lloss1= loss(output1, label.long())\n",
    "        lloss1.backward()\n",
    "        optimizer.step()\n",
    "#         break \n",
    "    accuracy=(correct1/len(df_trn))*100\n",
    "    accuracy_list.append(accuracy)    \n",
    "    print(correct1/len(df_trn),accuracy_list)\n",
    "    "
   ]
  },
  {
   "cell_type": "markdown",
   "metadata": {},
   "source": []
  },
  {
   "cell_type": "code",
   "execution_count": 1289,
   "metadata": {},
   "outputs": [
    {
     "name": "stdout",
     "output_type": "stream",
     "text": [
      "144982\n"
     ]
    }
   ],
   "source": [
    "# print(df_trn)\n",
    "max_user=max(df_trn['userid'].unique())\n",
    "print(max_user)"
   ]
  },
  {
   "cell_type": "code",
   "execution_count": 788,
   "metadata": {},
   "outputs": [
    {
     "ename": "SyntaxError",
     "evalue": "invalid syntax (<ipython-input-788-c49cd1edcc68>, line 2)",
     "output_type": "error",
     "traceback": [
      "\u001b[0;36m  File \u001b[0;32m\"<ipython-input-788-c49cd1edcc68>\"\u001b[0;36m, line \u001b[0;32m2\u001b[0m\n\u001b[0;31m    learn.model[0](learn.data.one_item(doc)) for doc in sent:\u001b[0m\n\u001b[0m                                               ^\u001b[0m\n\u001b[0;31mSyntaxError\u001b[0m\u001b[0;31m:\u001b[0m invalid syntax\n"
     ]
    }
   ],
   "source": []
  },
  {
   "cell_type": "code",
   "execution_count": 1173,
   "metadata": {},
   "outputs": [
    {
     "name": "stdout",
     "output_type": "stream",
     "text": [
      "2\n",
      "(tensor([[ 2963,  2906,  7891,   204, 17318,  3770,     3,   199,  1227,  7925,\n",
      "         10493,  1227,    10,   135, 17343, 24411,     9,   508,  9087,    94,\n",
      "          1550,  6561]]), tensor([0]))\n",
      "torch.Size([1, 22])\n",
      "[tensor([[[-2.2595e-02, -9.3924e-04, -4.6787e-01,  ...,  3.6226e-04,\n",
      "          -2.3961e-02,  8.4022e-02],\n",
      "         [-5.7533e-03,  4.1126e-03,  1.9538e-02,  ...,  1.0123e-01,\n",
      "          -1.3887e-01, -1.4714e-01],\n",
      "         [ 9.2288e-06,  1.4811e-03, -9.7586e-03,  ...,  8.1067e-01,\n",
      "          -9.0614e-01,  3.7632e-01],\n",
      "         ...,\n",
      "         [ 1.9264e-02,  3.7402e-01,  3.2342e-02,  ...,  9.1470e-02,\n",
      "           6.1285e-02, -1.2380e-01],\n",
      "         [ 1.0562e-03, -2.3039e-01,  1.0042e-01,  ...,  4.8998e-02,\n",
      "           1.3700e-01, -2.6615e-01],\n",
      "         [ 8.6229e-04,  1.8219e-01,  3.9752e-02,  ...,  4.8402e-03,\n",
      "           1.2127e-01, -2.1040e-01]]], grad_fn=<TransposeBackward0>), tensor([[[-0.0262,  0.0166,  0.0060,  ...,  0.0073,  0.0013, -0.0550],\n",
      "         [-0.0068,  0.0692,  0.0004,  ...,  0.1014,  0.0007, -0.0039],\n",
      "         [-0.0050,  0.0046,  0.0176,  ...,  0.0219,  0.0014, -0.0017],\n",
      "         ...,\n",
      "         [ 0.0259,  0.2151,  0.0180,  ...,  0.0017, -0.0008, -0.0709],\n",
      "         [ 0.0106,  0.1373,  0.0240,  ...,  0.0019, -0.0015, -0.0134],\n",
      "         [ 0.0029,  0.2765,  0.0330,  ...,  0.0222, -0.0020, -0.0341]]],\n",
      "       grad_fn=<TransposeBackward0>), tensor([[[ 5.5654e-03,  1.9370e-03, -2.3531e-01,  ..., -7.7732e-02,\n",
      "           3.6341e-03, -2.5688e-02],\n",
      "         [ 6.6857e-03,  2.2524e-03, -2.2453e-02,  ..., -9.7277e-03,\n",
      "          -1.0378e-02,  7.8209e-03],\n",
      "         [ 1.2413e-02, -8.7216e-04, -1.9689e-03,  ..., -6.2172e-03,\n",
      "           4.1446e-02,  2.6663e-04],\n",
      "         ...,\n",
      "         [ 3.3885e-01,  1.0150e-03,  8.7913e-01,  ..., -1.1566e-01,\n",
      "          -1.6766e-01, -5.8946e-03],\n",
      "         [-1.7015e-01, -8.9606e-02,  8.0703e-01,  ..., -6.7852e-01,\n",
      "          -5.3437e-01, -1.6856e-02],\n",
      "         [ 2.1761e-01, -4.6417e-05,  6.2135e-01,  ..., -3.3657e-01,\n",
      "           8.8204e-02, -9.2122e-02]]], grad_fn=<TransposeBackward0>)]\n",
      "torch.Size([1, 22, 400])\n"
     ]
    }
   ],
   "source": [
    "text = ('जुआ स्वर्ग के जीवन ऐ लास वेगास ऐ और उसके अंधेरे माफिया ुंडेरबेल्ली', 'जेम्स बॉन्ड जानूस सिंडीकेट की रहस्यमय सिर बेनकाब और ब्रिटेन पर')\n",
    "# learn.data.one_item(text)\n",
    "\n",
    "print(len(text))\n",
    "for i in range(0,1):\n",
    "    b = learn.data.one_item(text[i])\n",
    "    print(b)\n",
    "#     print((b[0]))\n",
    "    print(b[0].shape)\n",
    "    raw,out = learn.model[0](b[0])\n",
    "    print((raw[2].shape))\n",
    "    "
   ]
  },
  {
   "cell_type": "code",
   "execution_count": 1171,
   "metadata": {},
   "outputs": [
    {
     "data": {
      "text/plain": [
       "AWD_LSTM(\n",
       "  (encoder): Embedding(30000, 400, padding_idx=1)\n",
       "  (encoder_dp): EmbeddingDropout(\n",
       "    (emb): Embedding(30000, 400, padding_idx=1)\n",
       "  )\n",
       "  (rnns): ModuleList(\n",
       "    (0): WeightDropout(\n",
       "      (module): LSTM(400, 1152, batch_first=True)\n",
       "    )\n",
       "    (1): WeightDropout(\n",
       "      (module): LSTM(1152, 1152, batch_first=True)\n",
       "    )\n",
       "    (2): WeightDropout(\n",
       "      (module): LSTM(1152, 400, batch_first=True)\n",
       "    )\n",
       "  )\n",
       "  (input_dp): RNNDropout()\n",
       "  (hidden_dps): ModuleList(\n",
       "    (0): RNNDropout()\n",
       "    (1): RNNDropout()\n",
       "    (2): RNNDropout()\n",
       "  )\n",
       ")"
      ]
     },
     "execution_count": 1171,
     "metadata": {},
     "output_type": "execute_result"
    }
   ],
   "source": [
    "learn.model[0]"
   ]
  },
  {
   "cell_type": "code",
   "execution_count": 313,
   "metadata": {},
   "outputs": [
    {
     "data": {
      "text/plain": [
       "([tensor([[[ 0.0147,  0.0063, -0.0092,  ...,  0.0065, -0.0221, -0.0112],\n",
       "           [ 0.0133,  0.0206, -0.0111,  ...,  0.0107, -0.0292, -0.0093],\n",
       "           [ 0.0079,  0.0122, -0.0063,  ...,  0.0110, -0.0370, -0.0021],\n",
       "           ...,\n",
       "           [ 0.0018,  0.0251, -0.0063,  ...,  0.0191, -0.0279, -0.0019],\n",
       "           [ 0.0139,  0.0147,  0.0039,  ...,  0.0184, -0.0235, -0.0056],\n",
       "           [ 0.0046,  0.0101, -0.0002,  ...,  0.0078, -0.0296,  0.0008]]],\n",
       "         grad_fn=<TransposeBackward0>),\n",
       "  tensor([[[-0.0057, -0.0063, -0.0239,  ..., -0.0053, -0.0018, -0.0302],\n",
       "           [-0.0073, -0.0049, -0.0212,  ..., -0.0064, -0.0014, -0.0296],\n",
       "           [-0.0073, -0.0039, -0.0205,  ..., -0.0091, -0.0005, -0.0303],\n",
       "           ...,\n",
       "           [-0.0084, -0.0035, -0.0179,  ..., -0.0060,  0.0005, -0.0281],\n",
       "           [-0.0082, -0.0028, -0.0187,  ..., -0.0065,  0.0010, -0.0296],\n",
       "           [-0.0086, -0.0031, -0.0199,  ..., -0.0068,  0.0009, -0.0292]]],\n",
       "         grad_fn=<TransposeBackward0>),\n",
       "  tensor([[[-0.0159, -0.0022,  0.0040,  ..., -0.0131,  0.0168,  0.0216],\n",
       "           [-0.0164, -0.0027,  0.0040,  ..., -0.0120,  0.0187,  0.0211],\n",
       "           [-0.0166, -0.0026,  0.0040,  ..., -0.0115,  0.0194,  0.0205],\n",
       "           ...,\n",
       "           [-0.0183, -0.0041,  0.0031,  ..., -0.0100,  0.0210,  0.0204],\n",
       "           [-0.0182, -0.0041,  0.0036,  ..., -0.0099,  0.0212,  0.0206],\n",
       "           [-0.0180, -0.0045,  0.0040,  ..., -0.0101,  0.0212,  0.0209]]],\n",
       "         grad_fn=<TransposeBackward0>)],\n",
       " [tensor([[[ 0.0165,  0.0071, -0.0103,  ...,  0.0073, -0.0000, -0.0000],\n",
       "           [ 0.0149,  0.0230, -0.0124,  ...,  0.0119, -0.0000, -0.0000],\n",
       "           [ 0.0088,  0.0136, -0.0070,  ...,  0.0123, -0.0000, -0.0000],\n",
       "           ...,\n",
       "           [ 0.0020,  0.0280, -0.0070,  ...,  0.0214, -0.0000, -0.0000],\n",
       "           [ 0.0155,  0.0165,  0.0043,  ...,  0.0205, -0.0000, -0.0000],\n",
       "           [ 0.0051,  0.0113, -0.0002,  ...,  0.0088, -0.0000,  0.0000]]],\n",
       "         grad_fn=<MulBackward0>),\n",
       "  tensor([[[-0.0064, -0.0070, -0.0267,  ..., -0.0059, -0.0020, -0.0338],\n",
       "           [-0.0081, -0.0054, -0.0237,  ..., -0.0071, -0.0016, -0.0331],\n",
       "           [-0.0081, -0.0043, -0.0229,  ..., -0.0101, -0.0006, -0.0338],\n",
       "           ...,\n",
       "           [-0.0094, -0.0040, -0.0200,  ..., -0.0067,  0.0006, -0.0314],\n",
       "           [-0.0092, -0.0032, -0.0209,  ..., -0.0073,  0.0011, -0.0330],\n",
       "           [-0.0096, -0.0034, -0.0223,  ..., -0.0076,  0.0010, -0.0326]]],\n",
       "         grad_fn=<MulBackward0>),\n",
       "  tensor([[[-0.0159, -0.0022,  0.0040,  ..., -0.0131,  0.0168,  0.0216],\n",
       "           [-0.0164, -0.0027,  0.0040,  ..., -0.0120,  0.0187,  0.0211],\n",
       "           [-0.0166, -0.0026,  0.0040,  ..., -0.0115,  0.0194,  0.0205],\n",
       "           ...,\n",
       "           [-0.0183, -0.0041,  0.0031,  ..., -0.0100,  0.0210,  0.0204],\n",
       "           [-0.0182, -0.0041,  0.0036,  ..., -0.0099,  0.0212,  0.0206],\n",
       "           [-0.0180, -0.0045,  0.0040,  ..., -0.0101,  0.0212,  0.0209]]],\n",
       "         grad_fn=<TransposeBackward0>)])"
      ]
     },
     "execution_count": 313,
     "metadata": {},
     "output_type": "execute_result"
    }
   ],
   "source": [
    "a=learn.model[0]\n",
    "sents='abccccc'\n",
    "a(learn.data.one_item(sents)[0])"
   ]
  },
  {
   "cell_type": "code",
   "execution_count": null,
   "metadata": {},
   "outputs": [],
   "source": []
  },
  {
   "cell_type": "code",
   "execution_count": null,
   "metadata": {},
   "outputs": [],
   "source": []
  },
  {
   "cell_type": "code",
   "execution_count": 105,
   "metadata": {},
   "outputs": [],
   "source": []
  },
  {
   "cell_type": "code",
   "execution_count": 18,
   "metadata": {},
   "outputs": [
    {
     "name": "stdout",
     "output_type": "stream",
     "text": [
      "2\n",
      "torch.Size([1, 3, 1152])\n",
      "torch.Size([1, 3, 1152])\n",
      "torch.Size([1, 3, 1152])\n"
     ]
    }
   ],
   "source": [
    "ennc = learn.model[0](torch.tensor([[0,1,2]]))\n",
    "print(len(ennc))\n",
    "\n",
    "print((ennc[0][0].shape))\n",
    "print((ennc[1][0].shape))\n",
    "print((ennc[0][1].shape))\n",
    "\n",
    "\n",
    "a='the'\n",
    "# learn.model[0]\n",
    "# print(learn.model[0](learn.data.one_item(a)[0]))"
   ]
  },
  {
   "cell_type": "code",
   "execution_count": 4,
   "metadata": {},
   "outputs": [],
   "source": []
  },
  {
   "cell_type": "code",
   "execution_count": 33,
   "metadata": {},
   "outputs": [],
   "source": []
  },
  {
   "cell_type": "code",
   "execution_count": 34,
   "metadata": {},
   "outputs": [],
   "source": []
  },
  {
   "cell_type": "code",
   "execution_count": 35,
   "metadata": {},
   "outputs": [],
   "source": []
  },
  {
   "cell_type": "code",
   "execution_count": null,
   "metadata": {},
   "outputs": [],
   "source": [
    " "
   ]
  },
  {
   "cell_type": "code",
   "execution_count": null,
   "metadata": {},
   "outputs": [],
   "source": []
  },
  {
   "cell_type": "code",
   "execution_count": null,
   "metadata": {},
   "outputs": [],
   "source": []
  },
  {
   "cell_type": "code",
   "execution_count": 5,
   "metadata": {},
   "outputs": [],
   "source": []
  },
  {
   "cell_type": "code",
   "execution_count": 6,
   "metadata": {},
   "outputs": [],
   "source": []
  },
  {
   "cell_type": "code",
   "execution_count": null,
   "metadata": {},
   "outputs": [],
   "source": [
    "\n",
    "    "
   ]
  },
  {
   "cell_type": "code",
   "execution_count": null,
   "metadata": {},
   "outputs": [],
   "source": []
  },
  {
   "cell_type": "code",
   "execution_count": null,
   "metadata": {},
   "outputs": [],
   "source": []
  },
  {
   "cell_type": "code",
   "execution_count": null,
   "metadata": {},
   "outputs": [],
   "source": []
  },
  {
   "cell_type": "code",
   "execution_count": null,
   "metadata": {},
   "outputs": [],
   "source": []
  },
  {
   "cell_type": "code",
   "execution_count": 2,
   "metadata": {},
   "outputs": [
    {
     "name": "stdout",
     "output_type": "stream",
     "text": [
      "[<matplotlib.lines.Line2D object at 0x116947d30>, <matplotlib.lines.Line2D object at 0x116626908>, <matplotlib.lines.Line2D object at 0x116947e80>, <matplotlib.lines.Line2D object at 0x116955400>]\n"
     ]
    },
    {
     "data": {
      "image/png": "[encoded data removed]",
      "text/plain": [
       "<Figure size 432x288 with 1 Axes>"
      ]
     },
     "metadata": {
      "needs_background": "light"
     },
     "output_type": "display_data"
    }
   ],
   "source": [
    "import matplotlib.pyplot as plt\n",
    "import numpy as np\n",
    "param_range=np.arange(0,10,1)\n",
    "accuracy_list=31.918750000000003, 33.63125, 34.20625, 33.8375, 33.75625, 33.775, 33.93125, 33.9125, 33.56875, 34.46875\n",
    "accuracy_list1=28.2369, 31.406250000000004, 33.39375, 33.775, 33.99375, 34.14375, 33.95625, 33.75, 33.918749999999996, 32.69\n",
    "accuracy_list2=25.24500084, 31.406250000000004, 32.39375, 32.775, 32.99375, 32.14375, 32.95625, 31.75,32.29, 31.8\n",
    "accuracy_list3=25.106250000000003, 31.406250000000004, 33.39375, 33.775, 33.99375, 34.14375, 33.95625, 33.75, 33.918749999999996, 34.050000000000004\n",
    "w=plt.plot(param_range, accuracy_list, label=\"0.001 Adam\", color=\"green\")\n",
    "x=plt.plot(param_range,accuracy_list1, label=\"0.01 Adam\", color=\"black\")\n",
    "y=plt.plot(param_range,accuracy_list2, label=\"0.001 SGD\", color=\"grey\")\n",
    "z=plt.plot(param_range,accuracy_list3, label=\"0.01 SGD\", color=\"blue\")\n",
    "plt.legend()\n",
    "print(w+x+y+z)"
   ]
  }
 ],
 "metadata": {
  "kernelspec": {
   "display_name": "Python 3",
   "language": "python",
   "name": "python3"
  },
  "language_info": {
   "codemirror_mode": {
    "name": "ipython",
    "version": 3
   },
   "file_extension": ".py",
   "mimetype": "text/x-python",
   "name": "python",
   "nbconvert_exporter": "python",
   "pygments_lexer": "ipython3",
   "version": "3.7.2"
  }
 },
 "nbformat": 4,
 "nbformat_minor": 2
}
